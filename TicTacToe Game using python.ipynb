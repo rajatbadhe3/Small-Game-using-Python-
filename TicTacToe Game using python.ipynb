{
 "cells": [
  {
   "cell_type": "markdown",
   "id": "d9058704",
   "metadata": {},
   "source": [
    "# TIC TAC TOE GAME "
   ]
  },
  {
   "cell_type": "code",
   "execution_count": 1,
   "id": "de0eed8b",
   "metadata": {},
   "outputs": [],
   "source": [
    "# Import IPython.display lib\n",
    "from IPython.display import clear_output\n",
    "\n",
    "# Board creation - Minimalistic approach\n",
    "def display_board(board):\n",
    "    \n",
    "    # Clear all outputs, we don't want multiple boards dispĺayed.\n",
    "    clear_output()\n",
    "    \n",
    "    # Board itself -tada-\n",
    "    print(' '+board[1]+'|'+board[2]+'|'+board[3])\n",
    "    print(' '+board[4]+'|'+board[5]+'|'+board[6])\n",
    "    print(' '+board[7]+'|'+board[8]+'|'+board[9])"
   ]
  },
  {
   "cell_type": "code",
   "execution_count": 2,
   "id": "e9e77460",
   "metadata": {},
   "outputs": [
    {
     "name": "stdout",
     "output_type": "stream",
     "text": [
      " O|X|X\n",
      " X|O|O\n",
      " O|X|X\n"
     ]
    }
   ],
   "source": [
    "# testing board, we don't want any winners here.\n",
    "board_test = ['#','O','X','X','X','O','O','O','X','X']\n",
    "\n",
    "# running the test\n",
    "display_board(board_test)\n",
    "\n",
    "# clear_output() allows to show only one version of the board.\n",
    "display_board(board_test)"
   ]
  },
  {
   "cell_type": "code",
   "execution_count": 3,
   "id": "0cdb2399",
   "metadata": {},
   "outputs": [],
   "source": [
    "# Players icon assignment: 'X' or 'O'\n",
    "\n",
    "def player_iteration():\n",
    "    \n",
    "    '''\n",
    "    OUTPUT = (Player 1 icon, Player 2 icon)\n",
    "    '''\n",
    "    \n",
    "    # Make a variable to receive the player input.\n",
    "    marker = ''\n",
    "    \n",
    "    # While loop until we have the correct answer\n",
    "    while not (marker == 'X' or marker == 'O'):\n",
    "        \n",
    "        # User interaction\n",
    "        # .upper() to avoid lowercase inputs\n",
    "        marker = input ('Player 1 - Choose X or O: ').upper()\n",
    "    \n",
    "    # Player 2 has no options here!\n",
    "    if marker == 'X':\n",
    "        return ('X','O')\n",
    "    else:\n",
    "        return('O','X')"
   ]
  },
  {
   "cell_type": "code",
   "execution_count": 4,
   "id": "cc09ff16",
   "metadata": {},
   "outputs": [
    {
     "name": "stdout",
     "output_type": "stream",
     "text": [
      "Player 1 - Choose X or O: x\n"
     ]
    },
    {
     "data": {
      "text/plain": [
       "('X', 'O')"
      ]
     },
     "execution_count": 4,
     "metadata": {},
     "output_type": "execute_result"
    }
   ],
   "source": [
    "# Testing the function of the previous cell\n",
    "\n",
    "player_iteration()"
   ]
  },
  {
   "cell_type": "code",
   "execution_count": 5,
   "id": "c0c1e9b8",
   "metadata": {},
   "outputs": [],
   "source": [
    "# Assigning the icons to the desired position into the board\n",
    "def place_marker(board, marker,position):\n",
    "    board[position] = marker"
   ]
  },
  {
   "cell_type": "code",
   "execution_count": 6,
   "id": "09b2f1e4",
   "metadata": {},
   "outputs": [
    {
     "name": "stdout",
     "output_type": "stream",
     "text": [
      " O|X|X\n",
      " X|G|O\n",
      " O|X|X\n"
     ]
    }
   ],
   "source": [
    "# Testing icon positioning function with an 'G'\n",
    "place_marker(board_test,'G',5)\n",
    "\n",
    "# Expected to return the 'G' at position 5\n",
    "display_board(board_test)"
   ]
  },
  {
   "cell_type": "code",
   "execution_count": 7,
   "id": "b1a500d8",
   "metadata": {},
   "outputs": [],
   "source": [
    "def winner_check(board, mark):\n",
    "    \n",
    "    # Check if all win combinations share the same marks.\n",
    "    # All rows, all columns and 2 diagonals\n",
    "    return ((board[1] == mark and board[2] == mark and board[3] == mark) or\n",
    "    (board[4] == mark and board[5] == mark and board[6] == mark) or\n",
    "    (board[7] == mark and board[8] == mark and board[9] == mark) or\n",
    "    (board[1] == mark and board[4] == mark and board[7] == mark) or\n",
    "    (board[2] == mark and board[5] == mark and board[8] == mark) or\n",
    "    (board[3] == mark and board[6] == mark and board[9] == mark) or\n",
    "    (board[1] == mark and board[5] == mark and board[9] == mark) or\n",
    "    (board[3] == mark and board[5] == mark and board[7] == mark))"
   ]
  },
  {
   "cell_type": "code",
   "execution_count": 8,
   "id": "2583bdb3",
   "metadata": {},
   "outputs": [
    {
     "name": "stdout",
     "output_type": "stream",
     "text": [
      " O|X|X\n",
      " X|G|O\n",
      " O|X|X\n"
     ]
    },
    {
     "data": {
      "text/plain": [
       "False"
      ]
     },
     "execution_count": 8,
     "metadata": {},
     "output_type": "execute_result"
    }
   ],
   "source": [
    "# Testing the winner_check() for X\n",
    "\n",
    "# Displaying the board\n",
    "display_board(board_test)\n",
    "winner_check(board_test, 'X')"
   ]
  },
  {
   "cell_type": "code",
   "execution_count": 9,
   "id": "eeeaab0a",
   "metadata": {},
   "outputs": [
    {
     "name": "stdout",
     "output_type": "stream",
     "text": [
      " O|X|X\n",
      " X|G|O\n",
      " O|X|X\n"
     ]
    },
    {
     "data": {
      "text/plain": [
       "False"
      ]
     },
     "execution_count": 9,
     "metadata": {},
     "output_type": "execute_result"
    }
   ],
   "source": [
    "# Testing the winner_check() for O\n",
    "\n",
    "# Displaying the board here too\n",
    "display_board(board_test)\n",
    "winner_check(board_test, 'O')"
   ]
  },
  {
   "cell_type": "code",
   "execution_count": 10,
   "id": "1af0a61b",
   "metadata": {},
   "outputs": [],
   "source": [
    "# Machine will choose who starts the game\n",
    "\n",
    "# Get the random Lib\n",
    "import random\n",
    "\n",
    "# Setup a function using randint\n",
    "def cpu_pick():\n",
    "    \n",
    "    # This is similar as a coin flip...\n",
    "    if random.randint(0,1) == 0:\n",
    "        # ... but player 2 is in charge here.\n",
    "        return 'Player 2'\n",
    "    else:\n",
    "        return 'Player 1'"
   ]
  },
  {
   "cell_type": "code",
   "execution_count": 11,
   "id": "efd4885e",
   "metadata": {},
   "outputs": [],
   "source": [
    "# Checking if a board space is marked or not\n",
    "\n",
    "def space_check(board,position):\n",
    "    # A non marked space should be equal to ' '\n",
    "    return board[position] == ' '"
   ]
  },
  {
   "cell_type": "code",
   "execution_count": 12,
   "id": "7abd4053",
   "metadata": {},
   "outputs": [],
   "source": [
    "# Checking if the board is full\n",
    "# Full board will be True, otherwise False\n",
    "\n",
    "def full_board_check(board):\n",
    "    \n",
    "    # There's 9 positions, so 9+1 = 10 which is not included.\n",
    "    for i in range(1,10):\n",
    "        \n",
    "        # Call the space_check() to return False...\n",
    "        # ...for an empty space on board\n",
    "        if space_check(board, i):\n",
    "            return False\n",
    "    \n",
    "    # 'Board is full' condition otherwise\n",
    "    return True"
   ]
  },
  {
   "cell_type": "code",
   "execution_count": 13,
   "id": "a0207d6c",
   "metadata": {},
   "outputs": [],
   "source": [
    "# Asking Player's next move (1-9)...\n",
    "# ...and use space_check for free positions check\n",
    "# If it is a free position it'll return it for later use.\n",
    "\n",
    "def player_choice(board):\n",
    "    \n",
    "    # Set a placeholder\n",
    "    position = 0\n",
    "    \n",
    "    # While loop to check if the number is on the board...\n",
    "    # ...and check if the space still available\n",
    "    while position not in [1,2,3,4,5,6,7,8,9] or not space_check(board, position):\n",
    "        position = int(input('Choose your next move (1-9): '))\n",
    "    return position"
   ]
  },
  {
   "cell_type": "code",
   "execution_count": 14,
   "id": "f7cbabcd",
   "metadata": {},
   "outputs": [],
   "source": [
    "# Do you want to play again?\n",
    "# Boolean True for yes\n",
    "\n",
    "def replay():\n",
    "    \n",
    "    # Required to interact with user\n",
    "    return input('Ready for another match? Yes or No: ').lower().startswith('y')"
   ]
  },
  {
   "cell_type": "code",
   "execution_count": 15,
   "id": "31b0a906",
   "metadata": {},
   "outputs": [
    {
     "name": "stdout",
     "output_type": "stream",
     "text": [
      " X|X|X\n",
      "  |O| \n",
      "  | |O\n",
      "Congratulations! You, Player 1, won the game!\n",
      "Ready for another match? Yes or No: n\n"
     ]
    }
   ],
   "source": [
    "# Here goes the game logic...\n",
    "\n",
    "print ('Welcome to TIC \\n TAC \\n TOE')\n",
    "\n",
    "\n",
    "# Keep the game running through a while loop\n",
    "while True:\n",
    "    \n",
    "    # Setup the board with empty strings...\n",
    "    # ...because those are expected in display_board()\n",
    "    the_board = [' ']*10\n",
    "    \n",
    "    # Call player interaction\n",
    "    player1_marker, player2_marker = player_iteration()\n",
    "    \n",
    "    # Let the CPU choose who goes first\n",
    "    turn = cpu_pick()\n",
    "    print(turn + ' will go first.')\n",
    "    \n",
    "    # User interaction to start the game\n",
    "    play_game = input('Ready? Enter Yes or No')\n",
    "    if play_game.lower()[0] == 'yes' or play_game.lower()[0] == 'y':\n",
    "        game_on=True\n",
    "    else:\n",
    "        game_on=False\n",
    "    \n",
    "    # Assuming True the gameplay starts\n",
    "    while game_on:\n",
    "        \n",
    "        # Player's 1 turn\n",
    "        if turn == 'Player 1':\n",
    "            \n",
    "            # Show the board to players\n",
    "            display_board(the_board)\n",
    "            \n",
    "            # Allow player 1 to choose a position\n",
    "            position = player_choice(the_board)\n",
    "            \n",
    "            # Place the icon on position assigned\n",
    "            place_marker(the_board, player1_marker, position)\n",
    "            \n",
    "            # Check win condition\n",
    "            if winner_check(the_board, player1_marker):\n",
    "                display_board(the_board)\n",
    "                print ('Congratulations! You, Player 1, won the game!')                \n",
    "                # This will break out of the loop\n",
    "                game_on = False\n",
    "                \n",
    "            # Draw check will be a similar procedure\n",
    "            else:\n",
    "                if full_board_check(the_board):\n",
    "                    display_board(the_board)\n",
    "                    print(\"It's a draw!!\")\n",
    "                    game_on = False\n",
    "                else:\n",
    "                    turn = 'Player 2'\n",
    "        \n",
    "        # Repeat the process for player 2\n",
    "        else:\n",
    "            #Player's 2 turn\n",
    "            display_board(the_board)\n",
    "            position = player_choice(the_board)\n",
    "            place_marker(the_board, player2_marker, position)\n",
    "            \n",
    "            if winner_check(the_board, player2_marker):\n",
    "                display_board(the_board)\n",
    "                print ('Congratulations! You, Player 2, won the game!')\n",
    "                game_on = False\n",
    "            else:\n",
    "                if full_board_check(the_board):\n",
    "                    display_board(the_board)\n",
    "                    print(\"It's a draw!!\")\n",
    "                    game_on = False\n",
    "                else:\n",
    "                    turn = 'Player 1'\n",
    "    if not replay():\n",
    "        break"
   ]
  },
  {
   "cell_type": "markdown",
   "id": "ac54a208",
   "metadata": {},
   "source": [
    "# Thank You"
   ]
  },
  {
   "cell_type": "code",
   "execution_count": null,
   "id": "3ff508fe",
   "metadata": {},
   "outputs": [],
   "source": []
  }
 ],
 "metadata": {
  "kernelspec": {
   "display_name": "Python 3",
   "language": "python",
   "name": "python3"
  },
  "language_info": {
   "codemirror_mode": {
    "name": "ipython",
    "version": 3
   },
   "file_extension": ".py",
   "mimetype": "text/x-python",
   "name": "python",
   "nbconvert_exporter": "python",
   "pygments_lexer": "ipython3",
   "version": "3.8.8"
  }
 },
 "nbformat": 4,
 "nbformat_minor": 5
}
